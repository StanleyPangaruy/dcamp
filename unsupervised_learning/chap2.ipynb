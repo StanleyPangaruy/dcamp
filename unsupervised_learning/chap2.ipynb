{
 "cells": [
  {
   "cell_type": "markdown",
   "id": "1adfc01d",
   "metadata": {},
   "source": [
    "t-SNE\n",
    "Hierarchal clustering\n",
    "\n",
    "import matplotlib.pyplot as plt\n",
    "from scipy.cluster.hierarchy import linkage, dendrogram\n",
    "\n",
    "mergings = linkage(samples, method=\"complete\")\n",
    "dendrogram(mergings, \n",
    "        labels = country_names,\n",
    "        leaf_rotation = 90,\n",
    "        leaf_font_size = 6)\n",
    "\n",
    "plt.show()"
   ]
  },
  {
   "cell_type": "markdown",
   "id": "677d209e",
   "metadata": {},
   "source": [
    "# Perform the necessary imports\n",
    "from scipy.cluster.hierarchy import linkage, dendrogram\n",
    "import matplotlib.pyplot as plt\n",
    "\n",
    "# Calculate the linkage: mergings\n",
    "mergings = linkage(samples, method=\"complete\")\n",
    "\n",
    "# Plot the dendrogram, using varieties as labels\n",
    "dendrogram(mergings,\n",
    "           labels=varieties,\n",
    "           leaf_rotation=90,\n",
    "           leaf_font_size=6,\n",
    ")\n",
    "plt.show()"
   ]
  },
  {
   "cell_type": "markdown",
   "id": "53fe8065",
   "metadata": {},
   "source": [
    "# Import normalize\n",
    "from sklearn.preprocessing import normalize\n",
    "\n",
    "# Normalize the movements: normalized_movements\n",
    "normalized_movements = normalize(movements)\n",
    "\n",
    "# Calculate the linkage: mergings\n",
    "mergings = linkage(normalized_movements, method='complete')\n",
    "\n",
    "# Plot the dendrogram\n",
    "dendrogram(mergings,\n",
    "        labels=companies,\n",
    "        leaf_rotation=90,\n",
    "        leaf_font_size=6)\n",
    "plt.show()\n"
   ]
  },
  {
   "cell_type": "markdown",
   "id": "dcaf1076",
   "metadata": {},
   "source": [
    "from scipy.cluster.hierarchy import linkage  \n",
    "mergings = linkage(samples, method='complete')    \n",
    "from scipy.cluster hierarchy import fcluster  \n",
    "labels=fcluster(mergings, 15, criterion='distance')  \n",
    "print(labels)  "
   ]
  },
  {
   "cell_type": "markdown",
   "id": "86f9acb8",
   "metadata": {
    "vscode": {
     "languageId": "plaintext"
    }
   },
   "source": [
    "import pandas as pd  \n",
    "pairs = pd.DataFrame({'labels': labels, 'countries': country_names})  \n",
    "print(pairs.sort_values('labels'))  "
   ]
  },
  {
   "cell_type": "markdown",
   "id": "c1710367",
   "metadata": {},
   "source": [
    "# Perform the necessary imports\n",
    "import matplotlib.pyplot as plt\n",
    "from scipy.cluster.hierarchy import linkage, dendrogram\n",
    "\n",
    "# Calculate the linkage: mergings\n",
    "mergings = linkage(samples, method='single')\n",
    "\n",
    "# Plot the dendrogram\n",
    "dendrogram(mergings, labels=country_names, leaf_rotation=90, leaf_font_size=6)\n",
    "plt.show()\n"
   ]
  },
  {
   "cell_type": "markdown",
   "id": "5e3846df",
   "metadata": {},
   "source": [
    "# Perform the necessary imports\n",
    "import pandas as pd\n",
    "from scipy.cluster.hierarchy import fcluster\n",
    "\n",
    "# Use fcluster to extract labels: labels\n",
    "labels = fcluster(mergings, 6, criterion='distance')\n",
    "\n",
    "# Create a DataFrame with labels and varieties as columns: df\n",
    "df = pd.DataFrame({'labels': labels, 'varieties': varieties})\n",
    "\n",
    "# Create crosstab: ct\n",
    "ct = pd.crosstab(df['labels'], df['varieties'])\n",
    "\n",
    "# Display ct\n",
    "print(ct)\n"
   ]
  },
  {
   "cell_type": "markdown",
   "id": "be412dfd",
   "metadata": {},
   "source": [
    "import matplotlib.pyplot as plt  \n",
    "from sklearn.manifold import TSNE  \n",
    "model = TSNE(learning_rate=100)  \n",
    "transformed = model.fit_transform(samples)  \n",
    "xs = transformed[:,0]  \n",
    "ys = tranformed[:,1]  \n",
    "plt.scatter(xs, ys, c=species)  \n",
    "plt.show()"
   ]
  }
 ],
 "metadata": {
  "language_info": {
   "name": "python"
  }
 },
 "nbformat": 4,
 "nbformat_minor": 5
}
